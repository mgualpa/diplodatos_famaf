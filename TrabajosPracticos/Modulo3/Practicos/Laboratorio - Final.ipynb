{
 "cells": [
  {
   "cell_type": "markdown",
   "metadata": {},
   "source": [
    "# Laboratorio 2: Armado de un esquema de aprendizaje automático\n",
    "\n",
    "Estudiante: Mariano Martín Gualpa (mgualpa@gmail.com)\n",
    "\n",
    "En el laboratorio final se espera que puedan poner en práctica los conocimientos adquiridos en el curso, trabajando con un conjunto de datos de clasificación.\n",
    "\n",
    "El objetivo es que se introduzcan en el desarrollo de un esquema para hacer tareas de aprendizaje automático: selección de un modelo, ajuste de hiperparámetros y evaluación.\n",
    "\n",
    "El conjunto de datos a utilizar está en `./data/loan_data.csv`. Si abren el archivo verán que al principio (las líneas que empiezan con `#`) describen el conjunto de datos y sus atributos (incluyendo el atributo de etiqueta o clase).\n",
    "\n",
    "Se espera que hagan uso de las herramientas vistas en el curso. Se espera que hagan uso especialmente de las herramientas brindadas por `scikit-learn`."
   ]
  },
  {
   "cell_type": "code",
   "execution_count": 58,
   "metadata": {
    "collapsed": true
   },
   "outputs": [],
   "source": [
    "import numpy as np\n",
    "import pandas as pd\n",
    "\n",
    "# TODO: Agregar las librerías que hagan falta\n",
    "\n",
    "from IPython.display import display, HTML\n",
    "import matplotlib.pyplot as plt\n",
    "from matplotlib.colors import ListedColormap\n",
    "from ml.visualization import plot_confusion_matrix, classifier_boundary\n",
    "from sklearn.datasets import load_boston, load_breast_cancer, load_iris\n",
    "from sklearn.linear_model import LinearRegression, LogisticRegression, Perceptron, Ridge, SGDClassifier\n",
    "from sklearn.metrics import accuracy_score, confusion_matrix, mean_squared_error\n",
    "from sklearn.neighbors import KNeighborsClassifier\n",
    "from sklearn.preprocessing import PolynomialFeatures\n",
    "from ml.visualization import plot_confusion_matrix, plot_learning_curve\n",
    "from sklearn.linear_model import SGDClassifier\n",
    "from sklearn.metrics import accuracy_score, classification_report, confusion_matrix\n",
    "from sklearn.model_selection import GridSearchCV, train_test_split\n",
    "from sklearn.model_selection import train_test_split\n",
    "from sklearn.model_selection import cross_val_score, KFold\n",
    "from sklearn.utils import resample\n",
    "\n",
    "%matplotlib inline\n",
    "\n"
   ]
  },
  {
   "cell_type": "markdown",
   "metadata": {},
   "source": [
    "Parametros generales de trabajo:"
   ]
  },
  {
   "cell_type": "code",
   "execution_count": 59,
   "metadata": {
    "collapsed": true
   },
   "outputs": [],
   "source": [
    "fileName = \"./data/loan_data.csv\"\n",
    "trainSizePercent = 0.80\n",
    "foldersNSplits = 5\n",
    "randomSeed = 0\n",
    "useScoringRocAuc = True\n",
    "forceBalance = True\n"
   ]
  },
  {
   "cell_type": "markdown",
   "metadata": {},
   "source": [
    "## Carga de datos\n",
    "\n",
    "La celda siguiente se encarga de la carga de datos (haciendo uso de pandas). Estos serán los que se trabajarán en el resto del laboratorio."
   ]
  },
  {
   "cell_type": "code",
   "execution_count": 60,
   "metadata": {},
   "outputs": [
    {
     "data": {
      "text/html": [
       "<div>\n",
       "<style scoped>\n",
       "    .dataframe tbody tr th:only-of-type {\n",
       "        vertical-align: middle;\n",
       "    }\n",
       "\n",
       "    .dataframe tbody tr th {\n",
       "        vertical-align: top;\n",
       "    }\n",
       "\n",
       "    .dataframe thead th {\n",
       "        text-align: right;\n",
       "    }\n",
       "</style>\n",
       "<table border=\"1\" class=\"dataframe\">\n",
       "  <thead>\n",
       "    <tr style=\"text-align: right;\">\n",
       "      <th></th>\n",
       "      <th>TARGET</th>\n",
       "      <th>LOAN</th>\n",
       "      <th>MORTDUE</th>\n",
       "      <th>VALUE</th>\n",
       "      <th>YOJ</th>\n",
       "      <th>DEROG</th>\n",
       "      <th>DELINQ</th>\n",
       "      <th>CLAGE</th>\n",
       "      <th>NINQ</th>\n",
       "      <th>CLNO</th>\n",
       "      <th>DEBTINC</th>\n",
       "    </tr>\n",
       "  </thead>\n",
       "  <tbody>\n",
       "    <tr>\n",
       "      <th>0</th>\n",
       "      <td>0</td>\n",
       "      <td>4700</td>\n",
       "      <td>88026.0</td>\n",
       "      <td>115506.0</td>\n",
       "      <td>6.0</td>\n",
       "      <td>0.0</td>\n",
       "      <td>0.0</td>\n",
       "      <td>182.248332</td>\n",
       "      <td>0.0</td>\n",
       "      <td>27.0</td>\n",
       "      <td>29.209023</td>\n",
       "    </tr>\n",
       "    <tr>\n",
       "      <th>1</th>\n",
       "      <td>0</td>\n",
       "      <td>19300</td>\n",
       "      <td>39926.0</td>\n",
       "      <td>101208.0</td>\n",
       "      <td>4.0</td>\n",
       "      <td>0.0</td>\n",
       "      <td>0.0</td>\n",
       "      <td>140.051638</td>\n",
       "      <td>0.0</td>\n",
       "      <td>14.0</td>\n",
       "      <td>31.545694</td>\n",
       "    </tr>\n",
       "    <tr>\n",
       "      <th>2</th>\n",
       "      <td>0</td>\n",
       "      <td>5700</td>\n",
       "      <td>71556.0</td>\n",
       "      <td>79538.0</td>\n",
       "      <td>2.0</td>\n",
       "      <td>0.0</td>\n",
       "      <td>0.0</td>\n",
       "      <td>92.643085</td>\n",
       "      <td>0.0</td>\n",
       "      <td>15.0</td>\n",
       "      <td>41.210012</td>\n",
       "    </tr>\n",
       "    <tr>\n",
       "      <th>3</th>\n",
       "      <td>0</td>\n",
       "      <td>13000</td>\n",
       "      <td>44875.0</td>\n",
       "      <td>57713.0</td>\n",
       "      <td>0.0</td>\n",
       "      <td>1.0</td>\n",
       "      <td>0.0</td>\n",
       "      <td>184.990324</td>\n",
       "      <td>1.0</td>\n",
       "      <td>12.0</td>\n",
       "      <td>28.602076</td>\n",
       "    </tr>\n",
       "    <tr>\n",
       "      <th>4</th>\n",
       "      <td>0</td>\n",
       "      <td>19300</td>\n",
       "      <td>72752.0</td>\n",
       "      <td>106084.0</td>\n",
       "      <td>11.0</td>\n",
       "      <td>0.0</td>\n",
       "      <td>0.0</td>\n",
       "      <td>193.707100</td>\n",
       "      <td>1.0</td>\n",
       "      <td>13.0</td>\n",
       "      <td>30.686106</td>\n",
       "    </tr>\n",
       "  </tbody>\n",
       "</table>\n",
       "</div>"
      ],
      "text/plain": [
       "   TARGET   LOAN  MORTDUE     VALUE   YOJ  DEROG  DELINQ       CLAGE  NINQ  \\\n",
       "0       0   4700  88026.0  115506.0   6.0    0.0     0.0  182.248332   0.0   \n",
       "1       0  19300  39926.0  101208.0   4.0    0.0     0.0  140.051638   0.0   \n",
       "2       0   5700  71556.0   79538.0   2.0    0.0     0.0   92.643085   0.0   \n",
       "3       0  13000  44875.0   57713.0   0.0    1.0     0.0  184.990324   1.0   \n",
       "4       0  19300  72752.0  106084.0  11.0    0.0     0.0  193.707100   1.0   \n",
       "\n",
       "   CLNO    DEBTINC  \n",
       "0  27.0  29.209023  \n",
       "1  14.0  31.545694  \n",
       "2  15.0  41.210012  \n",
       "3  12.0  28.602076  \n",
       "4  13.0  30.686106  "
      ]
     },
     "metadata": {},
     "output_type": "display_data"
    },
    {
     "name": "stdout",
     "output_type": "stream",
     "text": [
      "Cantidad total de registros del dataset:  1854\n"
     ]
    }
   ],
   "source": [
    "np.random.seed(randomSeed)  # Para mayor determinismo\n",
    "dataset = pd.read_csv(fileName, comment=\"#\")\n",
    "display(dataset.head())\n",
    "countRows = len(dataset) \n",
    "print(\"Cantidad total de registros del dataset: \", countRows)\n",
    "# División entre instancias y etiquetas\n",
    "X, y = dataset.iloc[:, 1:], dataset.TARGET"
   ]
  },
  {
   "cell_type": "markdown",
   "metadata": {},
   "source": [
    "## Ejercicio 1: División de datos en conjuntos de entrenamiento y evaluación\n",
    "\n",
    "La primer tarea consiste en dividir el conjunto de datos cargados en el apartado anterior en conjuntos de entrenamiento (o *training*) y evaluación (o *test*).\n",
    "\n",
    "El primero será utilizado para la creación/selección del modelo de clasificación. El segundo se utilizará sólo al final (una vez elegidos los mejores hiperparámetros) para ver cuál es el resultado final del modelo sobre un conjunto de datos independiente."
   ]
  },
  {
   "cell_type": "code",
   "execution_count": 61,
   "metadata": {},
   "outputs": [
    {
     "name": "stdout",
     "output_type": "stream",
     "text": [
      "0    1545\n",
      "1     309\n",
      "Name: TARGET, dtype: int64\n"
     ]
    }
   ],
   "source": [
    "def printBalance(y):\n",
    "    yCount = y.count()\n",
    "    yTrue = y.sum()\n",
    "    yFalse = yCount - yTrue\n",
    "    class1Percent = yTrue / yCount\n",
    "    class0Percent = yFalse / yCount\n",
    "    print(\"Total registros: {0:}  Total clase 1: {1:} ({2:.4f}%)  Total clase 0: {3:} ({4:.4f}%)\".format(yCount, yTrue, class1Percent, yFalse, class0Percent))\n",
    "\n",
    "def printBal(y):\n",
    "    df_majority = y[y==0]\n",
    "    df_minority = y[y==1]\n",
    "    print(df_majority.count(), df_minority.count())\n",
    " \n",
    "print(y.value_counts())\n"
   ]
  },
  {
   "cell_type": "markdown",
   "metadata": {},
   "source": [
    "Dado que en el mínimo análisis exploratorio previo, se observa un desbalance importante entre las clases 1 y 0, esto afecta a la capacidad de predicción, por lo que se agrega el código para balancear el conjunto utilizado. Se controla su utilización con el parámetro *forceBalance*."
   ]
  },
  {
   "cell_type": "code",
   "execution_count": 62,
   "metadata": {},
   "outputs": [
    {
     "name": "stdout",
     "output_type": "stream",
     "text": [
      "1    309\n",
      "0    309\n",
      "Name: TARGET, dtype: int64\n"
     ]
    }
   ],
   "source": [
    "if forceBalance:\n",
    "    # Forzar balance (generar un dataset con igual cantidad de elementos por clase). \n",
    "    # Fuente: https://elitedatascience.com/imbalanced-classes\n",
    "    X_true = X[y==1]  # Minoría\n",
    "    y_true = y[y==1]  # Minoría\n",
    "    X_false = X[y==0] # Mayoría\n",
    "    y_false = y[y==0] # Mayoría\n",
    "    nSampleMin = y_true.count()\n",
    "    XFalseDownsampled = resample(X_false, \n",
    "                                 replace=False,    \n",
    "                                 n_samples=nSampleMin, \n",
    "                                 random_state=123) \n",
    "    yFalseDownsampled = resample(y_false, \n",
    "                                 replace=False,    \n",
    "                                 n_samples=nSampleMin, \n",
    "                                 random_state=123) # En este caso, al ser siempre 0 no hay problema con resample\n",
    " \n",
    "    X = pd.concat([XFalseDownsampled, X_true])\n",
    "    y = pd.concat([yFalseDownsampled, y_true])\n",
    "    print(y.value_counts())\n",
    "\n"
   ]
  },
  {
   "cell_type": "markdown",
   "metadata": {},
   "source": [
    "En el diseño de este trabajo, se decide utilizar:\n",
    "* 80% para entrenamiento.\n",
    "* 20% para test.\n"
   ]
  },
  {
   "cell_type": "code",
   "execution_count": 63,
   "metadata": {},
   "outputs": [
    {
     "name": "stdout",
     "output_type": "stream",
     "text": [
      "Tamaño del conjunto de entrenamiento: 494  Tamaño del conjunto de test: 124\n"
     ]
    }
   ],
   "source": [
    "# TODO: Dividir en datos de entrenamiento y evaluación\n",
    "testSizePercent = 1 - trainSizePercent\n",
    "X_train, X_test, y_train, y_test = train_test_split(X, y, train_size = trainSizePercent, test_size = testSizePercent)\n",
    "\n",
    "print(\"Tamaño del conjunto de entrenamiento: {}  Tamaño del conjunto de test: {}\".format(len(X_train), len(X_test)))\n",
    "\n"
   ]
  },
  {
   "cell_type": "markdown",
   "metadata": {},
   "source": [
    "## Ejercicio 2: Elección de un modelo\n",
    "\n",
    "Basándose en lo visto en el teórico escojan y justifiquen un modelo de aprendizaje automático. Recuerden que los pasos para elegir un modelo son:\n",
    "\n"
   ]
  },
  {
   "cell_type": "markdown",
   "metadata": {},
   "source": [
    "### Selección de hipótesis\n",
    "\n",
    "La hipótesis general de trabajo es que se trata de un problema de clasidicación y que los atributos disponibles en el dataset permitirán predecir con una probabilidad de error razonable si el atributo objetivo TARGET será 1 (el préstamo no será pagado) ó 0 (el préstamo si será pagado).\n",
    "\n",
    "Se asume para el modelo una hipótesis Lineal para el modelo de clasificación.\n"
   ]
  },
  {
   "cell_type": "markdown",
   "metadata": {},
   "source": [
    "### Selección de regularizador\n",
    "\n",
    "Se selecciona para este trabajo un regularizador de tipo l2. \n"
   ]
  },
  {
   "cell_type": "markdown",
   "metadata": {},
   "source": [
    "### Selección de función de coste\n",
    "\n",
    "Se ha seleccionado una función de costo del tipo: Binary Loss.\n"
   ]
  },
  {
   "cell_type": "markdown",
   "metadata": {},
   "source": [
    "### Justificación de las selecciones\n",
    "\n",
    "La hipótesis general se justifica por la naturaleza del problema: detectar a futuro la clase a la que pertenecen los registros nuevos que no tienen aún una clase definida, a partir de un modelo construido sobre el aprendizaje de registros pasados y su clasificación conocida.\n",
    "\n",
    "La hipótesis de utilización de un clasificador de Regresión Logística se sustenta en la naturaleza del problema: clasificación. Podrían haberse utilizado otros modelos (como árboles, vecinos mas cercanos o redes neuronales). No obstante, dadas las condiciones del práctico (indicar regularizador y función de coste), resulta mas conveniente pues el modelo seleccionado cuenta con todos estos elementos.\n",
    "\n",
    "La función de regularizador l2 fue inicialmente seleccionada porque se considera que da un único resultado (a diferencia del l1). De cualquier manera, se comprobó que dio mejor resultado en la búsqueda grid.\n",
    "\n",
    "La selección de la función de coste como binary loss, se sustenta en la naturaleza del problema (clasificación) utilizando regresión logística. \n",
    "\n"
   ]
  },
  {
   "cell_type": "markdown",
   "metadata": {},
   "source": [
    "## Ejercicio 3: Selección de hiperparámetros\n",
    "\n",
    "Utilizando búsqueda exhaustiva (*grid search*) con *5-fold cross-validation* y utilizando como métrica el área bajo la curva de ROC (o *ROC-AUC*), hagan una selección de los mejores hiperparámetros para su conjunto de datos y el modelo que hayan elegido en el apartado anterior."
   ]
  },
  {
   "cell_type": "code",
   "execution_count": 64,
   "metadata": {},
   "outputs": [
    {
     "name": "stdout",
     "output_type": "stream",
     "text": [
      "Train Score: 0.8457831325301205\n",
      "Mejores Parámetros: {'C': 1, 'max_iter': 100, 'penalty': 'l2', 'tol': 1e-05} \n"
     ]
    }
   ],
   "source": [
    "# TODO: Selección de hiperparámetros\n",
    "\n",
    "param_grid = {'C': [0.00001, 0.0001, 0.001, 0.01, 0.1, 1, 10], 'tol': [0.001, 0.0001, 0.00001], 'max_iter': [100, 1000], 'penalty' : ['l1', 'l2']}\n",
    "\n",
    "cv = KFold(n_splits=foldersNSplits, shuffle=True)\n",
    "if useScoringRocAuc:\n",
    "    grid = GridSearchCV(LogisticRegression(), param_grid=param_grid, cv=cv, scoring='roc_auc')\n",
    "else:\n",
    "    grid = GridSearchCV(LogisticRegression(), param_grid=param_grid, cv=cv)\n",
    "\n",
    "grid.fit(X_train, y_train)\n",
    "trainScore = grid.score(X_train, y_train)\n",
    "print(\"Train Score: {}\".format(trainScore))  \n",
    "print(\"Mejores Parámetros: {} \".format(grid.best_params_)) \n"
   ]
  },
  {
   "cell_type": "markdown",
   "metadata": {},
   "source": [
    "## Ejercicio 4: Métricas sobre el conjunto de evaluación\n",
    "\n",
    "Una vez encontrados los mejores hiperparámetros para el modelo seleccionado en los apartados anteriores se evalúa el modelo final entrenado sobre el conjunto de datos de evaluación seleccionado en el ejercicio 1. Pueden utilizar las métricas que crean convenientes. Es mejor utilizar más de una métrica. Particularmente el *reporte de clasificación* y la *matriz de confusión* son buenos ejemplos de métricas."
   ]
  },
  {
   "cell_type": "code",
   "execution_count": 65,
   "metadata": {},
   "outputs": [
    {
     "name": "stdout",
     "output_type": "stream",
     "text": [
      "Test Score: 0.7317708333333334\n",
      "Reporte de clasificación para el mejor clasificador (sobre conjunto de evaluación):\n",
      "\n",
      "             precision    recall  f1-score   support\n",
      "\n",
      "          0       0.65      0.75      0.70        60\n",
      "          1       0.73      0.62      0.67        64\n",
      "\n",
      "avg / total       0.69      0.69      0.68       124\n",
      "\n",
      "\n",
      "================================================\n",
      "\n"
     ]
    },
    {
     "data": {
      "image/png": "[encoded data removed]",
      "text/plain": [
       "<Figure size 432x288 with 2 Axes>"
      ]
     },
     "metadata": {},
     "output_type": "display_data"
    }
   ],
   "source": [
    "# TODO: Evaluación del modelo\n",
    "def showTestMetrics(model, X_test, y_test):\n",
    "    testScore = model.score(X_test, y_test)\n",
    "    print(\"Test Score: {}\".format(testScore))  \n",
    "    print(\"Reporte de clasificación para el mejor clasificador (sobre conjunto de evaluación):\", end=\"\\n\\n\")\n",
    "    y_true, y_pred = y_test, model.predict(X_test)\n",
    "    print(classification_report(y_true, y_pred), end=\"\\n\\n\")\n",
    "    print(\"================================================\", end=\"\\n\\n\")\n",
    "    plot_confusion_matrix(confusion_matrix(y_true, y_pred), classes=[0, 1], title=\"Matriz de confusión\")\n",
    "\n",
    "showTestMetrics(grid, X_test, y_test)\n"
   ]
  },
  {
   "cell_type": "markdown",
   "metadata": {},
   "source": [
    "## Ejercicio 5 (opcional): Curvas de ROC\n",
    "\n",
    "Como ejercicio adicional (opcional), pueden redefinir el umbral de decisión óptimo del problema a partir de los resultados que muestren curvas de ROC como justificación. \n",
    "\n",
    "Pueden ver esto mediante la [graficación de las curvas de ROC](http://scikit-learn.org/stable/auto_examples/model_selection/plot_roc.html). En el link que se les brinda se muestra como hacer para graficar curvas de ROC para problemas multiclase. Sin embargo se puede adaptar fácilmente a un problema binario obviando la parte donde se calcula la curva clase por clase."
   ]
  },
  {
   "cell_type": "code",
   "execution_count": 66,
   "metadata": {},
   "outputs": [
    {
     "data": {
      "image/png": "[encoded data removed]",
      "text/plain": [
       "<Figure size 432x288 with 1 Axes>"
      ]
     },
     "metadata": {},
     "output_type": "display_data"
    }
   ],
   "source": [
    "# TODO: Redefinir umbral de clasificación a través de los resultados vistos por graficar curvas de ROC\n",
    "import numpy as np\n",
    "import matplotlib.pyplot as plt\n",
    "from itertools import cycle\n",
    "\n",
    "from sklearn import svm, datasets\n",
    "from sklearn.metrics import roc_curve, auc\n",
    "from sklearn.model_selection import train_test_split\n",
    "from sklearn.preprocessing import label_binarize\n",
    "from sklearn.multiclass import OneVsRestClassifier\n",
    "from scipy import interp\n",
    "\n",
    "\n",
    "y_score = grid.decision_function(X_test)\n",
    "fpr, tpr, _ = roc_curve(y_test[:], y_score[:])\n",
    "roc_auc = auc(fpr, tpr)\n",
    "\n",
    "\n",
    "plt.figure()\n",
    "lw = 2\n",
    "plt.plot(fpr, tpr, color='darkorange',\n",
    "         lw=lw, label='ROC curve (area = %0.2f)' % roc_auc)\n",
    "plt.plot([0, 1], [0, 1], color='navy', lw=lw, linestyle='--')\n",
    "plt.xlim([0.0, 1.0])\n",
    "plt.ylim([0.0, 1.05])\n",
    "plt.xlabel('Ratio de Falsos Positivos')\n",
    "plt.ylabel('Ratio de Verdaderos Positivos')\n",
    "plt.title('Curva ROC (Receiver operating characteristic)')\n",
    "plt.legend(loc=\"lower right\")\n",
    "plt.show()\n"
   ]
  },
  {
   "cell_type": "code",
   "execution_count": null,
   "metadata": {
    "collapsed": true
   },
   "outputs": [],
   "source": []
  },
  {
   "cell_type": "code",
   "execution_count": null,
   "metadata": {
    "collapsed": true
   },
   "outputs": [],
   "source": []
  }
 ],
 "metadata": {
  "kernelspec": {
   "display_name": "Python 3",
   "language": "python",
   "name": "python3"
  },
  "language_info": {
   "codemirror_mode": {
    "name": "ipython",
    "version": 3
   },
   "file_extension": ".py",
   "mimetype": "text/x-python",
   "name": "python",
   "nbconvert_exporter": "python",
   "pygments_lexer": "ipython3",
   "version": "3.6.3"
  }
 },
 "nbformat": 4,
 "nbformat_minor": 2
}
